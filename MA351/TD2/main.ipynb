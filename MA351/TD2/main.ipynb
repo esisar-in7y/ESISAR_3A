{
 "cells": [
  {
   "cell_type": "code",
   "execution_count": 1,
   "metadata": {},
   "outputs": [],
   "source": [
    "from graphes import *"
   ]
  },
  {
   "cell_type": "code",
   "execution_count": 2,
   "metadata": {},
   "outputs": [
    {
     "name": "stdout",
     "output_type": "stream",
     "text": [
      "3\n"
     ]
    }
   ],
   "source": [
    "def trouver_puits(graphe,start):\n",
    "    while len(graphe[start])!=0:\n",
    "        start=graphe[start][0]\n",
    "    return start\n",
    "graphe={0:[1,3,4,2],1:[3],2:[1],3:[],4:[]}\n",
    "print(trouver_puits(graphe,0))\n",
    "graphe={0:[1,3,4,2],1:[3],2:[1],3:[0],4:[]}\n",
    "# print(trouver_puits(graphe,0))"
   ]
  },
  {
   "attachments": {},
   "cell_type": "markdown",
   "metadata": {},
   "source": [
    "2) S'il n'y a pas de circuit, il y'a forcement des extrémités donc à force d'avancer on va forcement tomber sur un puit.  \n",
    "3) Un point sur un circuit a forcement un parent et un enfant, donc cela ne peut pas etre un puit qui a forcement 0 enfant."
   ]
  },
  {
   "cell_type": "code",
   "execution_count": 3,
   "metadata": {},
   "outputs": [
    {
     "data": {
      "text/plain": [
       "(True, {0: 4, 2: 1, 1: 1, 4: 0, 3: 0})"
      ]
     },
     "execution_count": 3,
     "metadata": {},
     "output_type": "execute_result"
    }
   ],
   "source": [
    "import copy\n",
    "def tri_topologique(graph):\n",
    "    tmp_grap=copy.deepcopy(graph)\n",
    "    liste=[]\n",
    "    last_liste_puits=[]\n",
    "    while len(tmp_grap)!=0:\n",
    "        liste_puits=[i for i in tmp_grap if len(tmp_grap[i])==0]\n",
    "        if liste_puits==last_liste_puits:\n",
    "            raise ValueError(\"Le programme boucle\")\n",
    "        last_liste_puits=liste_puits\n",
    "        for puits in liste_puits:\n",
    "            liste.append(puits)\n",
    "            if puits in tmp_grap:\n",
    "                del tmp_grap[puits]\n",
    "            for i in tmp_grap:\n",
    "                if puits in tmp_grap[i]:\n",
    "                    tmp_grap[i].remove(puits)\n",
    "    return (True,{k:len(graph[k]) for k in liste[::-1]})\n",
    "\n",
    "graphe={0:[1,3,4,2],1:[3],2:[1],3:[],4:[]}\n",
    "tri_topologique(graphe)"
   ]
  },
  {
   "attachments": {},
   "cell_type": "markdown",
   "metadata": {},
   "source": [
    "S'il y a un cricuit, alors on ne peut avoir un puit dans ce circuit, donc il ne peut pas etre trié topologiquement, car il faut obligatoirement que tout les points puissent devenir des puits  \n",
    "Le puits peuvent etre triés topologiquement donc pas de soucis."
   ]
  },
  {
   "cell_type": "code",
   "execution_count": 4,
   "metadata": {},
   "outputs": [
    {
     "name": "stdout",
     "output_type": "stream",
     "text": [
      "(True, {0: 4, 2: 1, 1: 1, 4: 0, 3: 0})\n"
     ]
    },
    {
     "ename": "ValueError",
     "evalue": "Le programme boucle",
     "output_type": "error",
     "traceback": [
      "\u001b[0;31m---------------------------------------------------------------------------\u001b[0m",
      "\u001b[0;31mValueError\u001b[0m                                Traceback (most recent call last)",
      "Cell \u001b[0;32mIn[4], line 4\u001b[0m\n\u001b[1;32m      2\u001b[0m \u001b[39mprint\u001b[39m(tri_topologique(graphe))\n\u001b[1;32m      3\u001b[0m graphe\u001b[39m=\u001b[39m{\u001b[39m0\u001b[39m:[\u001b[39m1\u001b[39m,\u001b[39m3\u001b[39m,\u001b[39m4\u001b[39m,\u001b[39m2\u001b[39m],\u001b[39m1\u001b[39m:[\u001b[39m3\u001b[39m,\u001b[39m0\u001b[39m],\u001b[39m2\u001b[39m:[\u001b[39m1\u001b[39m],\u001b[39m3\u001b[39m:[],\u001b[39m4\u001b[39m:[]}\n\u001b[0;32m----> 4\u001b[0m \u001b[39mprint\u001b[39m(tri_topologique(graphe))\n",
      "Cell \u001b[0;32mIn[3], line 9\u001b[0m, in \u001b[0;36mtri_topologique\u001b[0;34m(graph)\u001b[0m\n\u001b[1;32m      7\u001b[0m liste_puits\u001b[39m=\u001b[39m[i \u001b[39mfor\u001b[39;00m i \u001b[39min\u001b[39;00m tmp_grap \u001b[39mif\u001b[39;00m \u001b[39mlen\u001b[39m(tmp_grap[i])\u001b[39m==\u001b[39m\u001b[39m0\u001b[39m]\n\u001b[1;32m      8\u001b[0m \u001b[39mif\u001b[39;00m liste_puits\u001b[39m==\u001b[39mlast_liste_puits:\n\u001b[0;32m----> 9\u001b[0m     \u001b[39mraise\u001b[39;00m \u001b[39mValueError\u001b[39;00m(\u001b[39m\"\u001b[39m\u001b[39mLe programme boucle\u001b[39m\u001b[39m\"\u001b[39m)\n\u001b[1;32m     10\u001b[0m last_liste_puits\u001b[39m=\u001b[39mliste_puits\n\u001b[1;32m     11\u001b[0m \u001b[39mfor\u001b[39;00m puits \u001b[39min\u001b[39;00m liste_puits:\n",
      "\u001b[0;31mValueError\u001b[0m: Le programme boucle"
     ]
    }
   ],
   "source": [
    "graphe={0:[1,3,4,2],1:[3],2:[1],3:[],4:[]}\n",
    "print(tri_topologique(graphe))\n",
    "graphe={0:[1,3,4,2],1:[3,0],2:[1],3:[],4:[]}\n",
    "print(tri_topologique(graphe))"
   ]
  },
  {
   "cell_type": "code",
   "execution_count": null,
   "metadata": {},
   "outputs": [
    {
     "data": {
      "text/plain": [
       "{0, 1, 2, 3, 4, 9, 'aa'}"
      ]
     },
     "execution_count": 11,
     "metadata": {},
     "output_type": "execute_result"
    }
   ],
   "source": [
    "def Accessibles2(graphe:dict,x:int,liste_accessibles:set=set()):\n",
    "    liste_accessibles.add(x) #corrigé sinon le premier sommet n'est pas mis\n",
    "    for y in graphe.get(x,[]):\n",
    "        if not y in liste_accessibles:\n",
    "            liste_accessibles=Accessibles2(graphe,y,liste_accessibles)\n",
    "    return liste_accessibles\n",
    "\n",
    "def trouver_puits(graphe,start=None,done=set()):\n",
    "    if start==None:\n",
    "        start=list(graphe.keys())[0]\n",
    "    done.add(start)\n",
    "    liste=set()\n",
    "    if len(graphe[start])==0:\n",
    "        print(\"start:\",start)\n",
    "        liste.add(start)\n",
    "    for new_start in graphe[start]:\n",
    "        if new_start not in done:\n",
    "            liste.update(trouver_puits(graphe,new_start,done))\n",
    "    return liste\n",
    "\n",
    "\n",
    "graphe={0:[1,3,'aa',2],1:[3],2:[1],3:[4],4:[],9:[3],'aa':[9]}\n",
    "Accessibles2(graphe,0)"
   ]
  },
  {
   "cell_type": "code",
   "execution_count": 12,
   "metadata": {},
   "outputs": [
    {
     "data": {
      "text/plain": [
       "4"
      ]
     },
     "execution_count": 12,
     "metadata": {},
     "output_type": "execute_result"
    }
   ],
   "source": [
    "def remove_point(graphe,point):\n",
    "    if point in graphe:\n",
    "        del graphe[point]\n",
    "    for i in graphe:\n",
    "        if point in graphe[i]:\n",
    "            graphe[i].remove(point)\n",
    "\n",
    "def remove_puits_source(graphe):\n",
    "    first_remove=None\n",
    "    sources=puits=[1]\n",
    "    while len(sources) or len(puits):\n",
    "        puits=[i for i in graphe if len(graphe[i])==0]\n",
    "        sources=[i for i in graphe if len([j for j in graphe if i in graphe[j]])==0]\n",
    "        for pt in (*puits,*sources):\n",
    "            if first_remove==None:first_remove=pt\n",
    "            remove_point(graphe,pt)\n",
    "    return graphe or first_remove\n",
    "\n",
    "def circuit_ou_puits(graph):\n",
    "    tmp_graph=copy.deepcopy(graph)\n",
    "    return remove_puits_source(tmp_graph)\n",
    "\n",
    "graphe={0:[1,3,'aa',2],1:[3],2:[1],3:[4],4:[],9:[3],'aa':[9]}\n",
    "circuit_ou_puits(graphe)"
   ]
  },
  {
   "cell_type": "code",
   "execution_count": 23,
   "metadata": {},
   "outputs": [
    {
     "name": "stdout",
     "output_type": "stream",
     "text": [
      "1\n",
      "3\n",
      "aa\n",
      "2\n"
     ]
    },
    {
     "data": {
      "text/plain": [
       "[1, 3, 'aa', 2]"
      ]
     },
     "execution_count": 23,
     "metadata": {},
     "output_type": "execute_result"
    }
   ],
   "source": [
    "N=1\n",
    "def circuit_ou_tri_topologique(graphe:dict,point,topo:dict={},liste:list=[]):\n",
    "    global N\n",
    "    if point in liste:\n",
    "        print(\">\",point)\n",
    "        return liste[liste.index(point):]\n",
    "    if len(graphe[point])==0:\n",
    "        topo[point]=N\n",
    "        liste.append(point)\n",
    "        N+=1\n",
    "        return\n",
    "    for pt in graphe[point]:\n",
    "        topo[pt]=-1\n",
    "        liste.append(pt)\n",
    "        circuit_ou_tri_topologique(graphe,pt,topo,liste)\n",
    "        topo[pt]=N\n",
    "        N+=1\n",
    "    return liste\n",
    "\n",
    "\n",
    "circuit_ou_tri_topologique(graphe,0)"
   ]
  }
 ],
 "metadata": {
  "kernelspec": {
   "display_name": "Python 3",
   "language": "python",
   "name": "python3"
  },
  "language_info": {
   "codemirror_mode": {
    "name": "ipython",
    "version": 3
   },
   "file_extension": ".py",
   "mimetype": "text/x-python",
   "name": "python",
   "nbconvert_exporter": "python",
   "pygments_lexer": "ipython3",
   "version": "3.10.6"
  },
  "orig_nbformat": 4,
  "vscode": {
   "interpreter": {
    "hash": "31f2aee4e71d21fbe5cf8b01ff0e069b9275f58929596ceb00d14d90e3e16cd6"
   }
  }
 },
 "nbformat": 4,
 "nbformat_minor": 2
}
