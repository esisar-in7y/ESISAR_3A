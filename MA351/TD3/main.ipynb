{
 "cells": [
  {
   "cell_type": "code",
   "execution_count": 6,
   "metadata": {},
   "outputs": [],
   "source": [
    "from graphes import *"
   ]
  },
  {
   "cell_type": "code",
   "execution_count": 7,
   "metadata": {},
   "outputs": [],
   "source": [
    "def verification_chemin(G, c):\n",
    "    if len(c) == 0:\n",
    "        return True\n",
    "    if c[0] not in G:\n",
    "        return False\n",
    "    for i in range(1, len(c)):\n",
    "        if c[i] not in G[c[i-1]]:\n",
    "            return False\n",
    "    return True\n",
    "\n",
    "def verification_chemin_origine(c,o):\n",
    "    return c[0] == o\n",
    "\n",
    "def verification_chemin_destination(c,d):\n",
    "    return c[-1] == d\n",
    "\n",
    "def calcul_longueur(l,c):\n",
    "    return sum((l(c[i-1], c[i]) for i in range(1, len(c))))"
   ]
  },
  {
   "cell_type": "code",
   "execution_count": 8,
   "metadata": {},
   "outputs": [],
   "source": [
    "def verification_certificat_oui(G, l, c, s, t, k):\n",
    "    return verification_chemin_origine(c, s) and \\\n",
    "        verification_chemin_destination(c, t) and \\\n",
    "        verification_chemin(G, c) and \\\n",
    "        calcul_longueur(l, c) <= k\n",
    "\n",
    "\n",
    "def verification_certificat_non(Graphe, longueur, start, end, long_max, phi=0):\n",
    "    if long_max < phi:return False\n",
    "    if start == end:return True\n",
    "    for i in Graphe[start]:\n",
    "        if verification_certificat_non(Graphe, longueur, i, end, long_max, phi+longueur(start, i)):\n",
    "            return True\n",
    "    return False"
   ]
  },
  {
   "attachments": {},
   "cell_type": "markdown",
   "metadata": {},
   "source": [
    "```\n",
    "Dijkstra(G,Poids,sdeb)\n",
    "1 Initialisation(G,sdeb)\n",
    "2 Q := ensemble de tous les nœuds\n",
    "3 tant que Q n'est pas un ensemble vide faire\n",
    "4       parent := Trouve_min(Q)\n",
    "5       Q := Q privé de parent\n",
    "6       pour chaque nœud child voisin de parent faire\n",
    "7           maj_distances(parent,child)\n",
    "8       fin pour\n",
    "9 fin tant que\n",
    "```"
   ]
  },
  {
   "cell_type": "code",
   "execution_count": 28,
   "metadata": {},
   "outputs": [],
   "source": [
    "def Dijkstra2(grph,start,end,longueur):\n",
    "    distances = {start:0}\n",
    "    chemin = {start:[start]}\n",
    "    Q = set(grph.keys())\n",
    "    while Q:\n",
    "        parent = min(Q, key=lambda x: distances.get(x, float('inf')))\n",
    "        Q.remove(parent)\n",
    "        for child in grph[parent]:\n",
    "            dist_tmp=distances[parent] + longueur(parent, child)\n",
    "            if child not in distances or distances[child] > dist_tmp:\n",
    "                distances[child] = dist_tmp\n",
    "                chemin[child] = chemin[parent] + [child]\n",
    "    return chemin[end]\n",
    "\n",
    "def Dijkstra(graphe,a,longueur,chemin=[],distances={}):\n",
    "    if not chemin:chemin=[a]\n",
    "    if not distances:distances={a:0}\n",
    "    for i in graphe[a]:\n",
    "        if not i in distances or distances[i]>calcul_longueur(longueur,chemin+[i]):\n",
    "            distances[i]=calcul_longueur(longueur,chemin+[i])\n",
    "            distances=Dijkstra(graphe,i,longueur,chemin+[i],distances)\n",
    "    return distances\n"
   ]
  },
  {
   "cell_type": "code",
   "execution_count": 29,
   "metadata": {},
   "outputs": [
    {
     "name": "stdout",
     "output_type": "stream",
     "text": [
      "False\n",
      "True\n",
      "{0: 0, 1: 0.5, 2: 3.5, 3: 9.0, 4: 9.5}\n"
     ]
    },
    {
     "data": {
      "text/plain": [
       "[0, 1, 2]"
      ]
     },
     "execution_count": 29,
     "metadata": {},
     "output_type": "execute_result"
    }
   ],
   "source": [
    "#tests\n",
    "graphe={0: [1], 1: [0, 2], 2:[0,1,3,4],3:[4],4:[3]}\n",
    "print(verification_certificat_non(graphe, (lambda a,b:1), 0, 2,1))\n",
    "print(verification_certificat_non(graphe, (lambda a,b:0.5), 0, 2,1))\n",
    "print(Dijkstra(graphe,0,(lambda a,b:a*2+b/2)))\n",
    "Dijkstra2(graphe,0,2,(lambda a,b:1))"
   ]
  },
  {
   "attachments": {},
   "cell_type": "markdown",
   "metadata": {},
   "source": [
    "si on met verification_certificat_non de 0  jusqu'a notre nombre avec `longmax<valeur` dans le tableau de Dijkstra"
   ]
  }
 ],
 "metadata": {
  "kernelspec": {
   "display_name": "Python 3",
   "language": "python",
   "name": "python3"
  },
  "language_info": {
   "codemirror_mode": {
    "name": "ipython",
    "version": 3
   },
   "file_extension": ".py",
   "mimetype": "text/x-python",
   "name": "python",
   "nbconvert_exporter": "python",
   "pygments_lexer": "ipython3",
   "version": "3.10.6"
  },
  "orig_nbformat": 4,
  "vscode": {
   "interpreter": {
    "hash": "31f2aee4e71d21fbe5cf8b01ff0e069b9275f58929596ceb00d14d90e3e16cd6"
   }
  }
 },
 "nbformat": 4,
 "nbformat_minor": 2
}
