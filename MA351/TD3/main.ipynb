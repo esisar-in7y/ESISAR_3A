{
 "cells": [
  {
   "cell_type": "code",
   "execution_count": 9,
   "metadata": {},
   "outputs": [],
   "source": [
    "from graphes import *"
   ]
  },
  {
   "cell_type": "code",
   "execution_count": 10,
   "metadata": {},
   "outputs": [],
   "source": [
    "def verification_chemin(G, c):\n",
    "    if len(c) == 0:\n",
    "        return True\n",
    "    if c[0] not in G:\n",
    "        return False\n",
    "    for i in range(1, len(c)):\n",
    "        if c[i] not in G[c[i-1]]:\n",
    "            return False\n",
    "    return True\n",
    "\n",
    "def verification_chemin_origine(c,o):\n",
    "    return c[0] == o\n",
    "\n",
    "def verification_chemin_destination(c,d):\n",
    "    return c[-1] == d\n",
    "\n",
    "def calcul_longueur(l,c):\n",
    "    return sum((l(c[i-1], c[i]) for i in range(1, len(c))))"
   ]
  },
  {
   "cell_type": "code",
   "execution_count": 11,
   "metadata": {},
   "outputs": [],
   "source": [
    "def verification_certificat_oui(G, l, c, s,t,k):\n",
    "    return verification_chemin(G, c) and \\\n",
    "        verification_chemin_origine(c, s) and \\\n",
    "        verification_chemin_destination(c, t) and \\\n",
    "        calcul_longueur(l, c) <= k\n",
    "\n",
    "def verification_certificat_non(G,l,phi):\n",
    "    pass"
   ]
  },
  {
   "cell_type": "code",
   "execution_count": 12,
   "metadata": {},
   "outputs": [
    {
     "data": {
      "text/plain": [
       "9"
      ]
     },
     "execution_count": 12,
     "metadata": {},
     "output_type": "execute_result"
    }
   ],
   "source": [
    "#tests\n",
    "calcul_longueur(lambda x,y: 1, [1,2,3,4,5,6,7,8,9,10])"
   ]
  }
 ],
 "metadata": {
  "kernelspec": {
   "display_name": "Python 3",
   "language": "python",
   "name": "python3"
  },
  "language_info": {
   "codemirror_mode": {
    "name": "ipython",
    "version": 3
   },
   "file_extension": ".py",
   "mimetype": "text/x-python",
   "name": "python",
   "nbconvert_exporter": "python",
   "pygments_lexer": "ipython3",
   "version": "3.10.6"
  },
  "orig_nbformat": 4,
  "vscode": {
   "interpreter": {
    "hash": "31f2aee4e71d21fbe5cf8b01ff0e069b9275f58929596ceb00d14d90e3e16cd6"
   }
  }
 },
 "nbformat": 4,
 "nbformat_minor": 2
}
