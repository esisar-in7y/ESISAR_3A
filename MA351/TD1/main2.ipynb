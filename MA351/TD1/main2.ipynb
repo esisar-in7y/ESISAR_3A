{
 "cells": [
  {
   "cell_type": "code",
   "execution_count": 2,
   "metadata": {},
   "outputs": [],
   "source": [
    "from graphes import *\n",
    "g=graphe_oriente(100,10)\n",
    "#1) sous forme de tableau sommet:[liste de successeurs ]\n",
    "#1.1) successeurs de 0 : [2, 8, 22, 28, 42, 48, 62, 68, 82, 88]\n",
    "#1.2) successeurs de 67: [3, 20, 33, 50, 71, 88]\n",
    "#2)\n",
    "def degres(graph:dict,sommet:int):\n",
    "    return len(graph[sommet])\n",
    "\n",
    "def test_degres():\n",
    "    test_graph=graphe_oriente(2,3)\n",
    "    assert degres(test_graph,0)==1\n",
    "    assert degres(test_graph,1)==0\n",
    "    test_graph=graphe_oriente(8,3)\n",
    "    assert degres(test_graph,0)==3\n",
    "    assert degres(test_graph,1)==1\n",
    "#3)\n",
    "def sommets(graph:dict):\n",
    "    return list(graph.keys())\n",
    "\n",
    "def test_sommets():\n",
    "    test_graph=graphe_oriente(2,3)\n",
    "    assert len(sommets(test_graph))==2\n",
    "    test_graph=graphe_oriente(8,3)\n",
    "    assert len(sommets(test_graph))==8\n",
    "\n",
    "#4)\n",
    "def arcs(graph:dict):\n",
    "    for start,ends in graph.items():\n",
    "        for end in ends:\n",
    "            yield (start,end)\n",
    "\n",
    "\n",
    "#si besoin d'une liste et non d'un iterateur\n",
    "def list_arcs(graph:dict):\n",
    "    liste=[]\n",
    "    for start,ends in graph.items():\n",
    "        for end in ends:\n",
    "            liste.append((start,end))\n",
    "    return liste\n",
    "\n",
    "def test_arcs():\n",
    "    test_graph=graphe_oriente(2,3)\n",
    "    assert len(list_arcs(test_graph))==1\n",
    "    test_graph=graphe_oriente(8,3)\n",
    "    assert len(list_arcs(test_graph))==15\n",
    "\n",
    "#5\n",
    "def describe(graph:dict):\n",
    "    return (len(sommets(graph)),len(arcs(graph)))\n",
    "\n",
    "def test_describe():\n",
    "    test_graph=graphe_oriente(2,3)\n",
    "    assert describe(test_graph)==(2, 1)\n",
    "    test_graph=graphe_oriente(8,3)\n",
    "    assert describe(test_graph)==(8, 15)\n",
    "#6\n",
    "def mirroir(graph:dict):\n",
    "    mirror_edge={key:[] for key in graph.keys()}\n",
    "    for start,ends in graph.items():\n",
    "        for end in ends:\n",
    "            mirror_edge[end].append(start)\n",
    "    return mirror_edge\n",
    "\n",
    "def test_mirroir():\n",
    "    test_graph=graphe_oriente(100,30)\n",
    "    assert mirroir(mirroir(test_graph))==test_graph\n",
    "#7\n",
    "def degres_entrant_sommet(graph:dict,sommet:int):\n",
    "    return sum([1 if sommet in predecesseurs else 0 for predecesseurs in graph.values()])\n",
    "    # return len(mirror(graph)[somment])\n",
    "\n",
    "def test_degres_entrant_sommet():\n",
    "    test_graph=graphe_oriente(10,2)\n",
    "    assert degres_entrant_sommet(test_graph,0)==5\n",
    "#8\n",
    "def sous_graph(graph:dict,sommets:list[int]):\n",
    "    sous_graph_tmp={key:[] for key in graph.keys() if key in sommets}\n",
    "    for start,ends in graph.items():\n",
    "        if start in sommets:\n",
    "            for end in ends:\n",
    "                if end in sommets:\n",
    "                    sous_graph_tmp[start].append(end)\n",
    "    return sous_graph_tmp\n",
    "\n",
    "def test_sous_graph():\n",
    "    test_graph=graphe_oriente(10,2)\n",
    "    assert sous_graph(test_graph,[0,1])=={0: [], 1: [0]}\n",
    "\n"
   ]
  },
  {
   "cell_type": "code",
   "execution_count": 19,
   "metadata": {},
   "outputs": [],
   "source": [
    "def Accessibles1(graphe:dict,x:int):\n",
    "    liste_accessibles={x}\n",
    "    for y in graphe.get(x,[]):\n",
    "        sommets_atteignables=Accessibles1(graphe,y)\n",
    "        liste_accessibles=liste_accessibles.union(sommets_atteignables)\n",
    "    return liste_accessibles"
   ]
  },
  {
   "cell_type": "code",
   "execution_count": 20,
   "metadata": {},
   "outputs": [
    {
     "name": "stdout",
     "output_type": "stream",
     "text": [
      "{0, 1, 2, 3}\n"
     ]
    }
   ],
   "source": [
    "graphe={0:[1,3],1:[],2:[0,3],3:[]}\n",
    "print(Accessibles1(graphe,2))"
   ]
  },
  {
   "attachments": {},
   "cell_type": "markdown",
   "metadata": {},
   "source": []
  },
  {
   "cell_type": "code",
   "execution_count": 21,
   "metadata": {},
   "outputs": [
    {
     "ename": "RecursionError",
     "evalue": "maximum recursion depth exceeded while calling a Python object",
     "output_type": "error",
     "traceback": [
      "\u001b[0;31m---------------------------------------------------------------------------\u001b[0m",
      "\u001b[0;31mRecursionError\u001b[0m                            Traceback (most recent call last)",
      "Cell \u001b[0;32mIn[21], line 2\u001b[0m\n\u001b[1;32m      1\u001b[0m graphe\u001b[39m=\u001b[39m{\u001b[39m0\u001b[39m:[\u001b[39m1\u001b[39m,\u001b[39m3\u001b[39m],\u001b[39m1\u001b[39m:[\u001b[39m0\u001b[39m],\u001b[39m2\u001b[39m:[\u001b[39m0\u001b[39m,\u001b[39m3\u001b[39m],\u001b[39m3\u001b[39m:[]}\n\u001b[0;32m----> 2\u001b[0m \u001b[39mprint\u001b[39m(Accessibles1(graphe,\u001b[39m2\u001b[39;49m))\n",
      "Cell \u001b[0;32mIn[19], line 4\u001b[0m, in \u001b[0;36mAccessibles1\u001b[0;34m(graphe, x)\u001b[0m\n\u001b[1;32m      2\u001b[0m liste_accessibles\u001b[39m=\u001b[39m{x}\n\u001b[1;32m      3\u001b[0m \u001b[39mfor\u001b[39;00m y \u001b[39min\u001b[39;00m graphe\u001b[39m.\u001b[39mget(x,[]):\n\u001b[0;32m----> 4\u001b[0m     sommets_atteignables\u001b[39m=\u001b[39mAccessibles1(graphe,y)\n\u001b[1;32m      5\u001b[0m     liste_accessibles\u001b[39m=\u001b[39mliste_accessibles\u001b[39m.\u001b[39munion(sommets_atteignables)\n\u001b[1;32m      6\u001b[0m \u001b[39mreturn\u001b[39;00m liste_accessibles\n",
      "Cell \u001b[0;32mIn[19], line 4\u001b[0m, in \u001b[0;36mAccessibles1\u001b[0;34m(graphe, x)\u001b[0m\n\u001b[1;32m      2\u001b[0m liste_accessibles\u001b[39m=\u001b[39m{x}\n\u001b[1;32m      3\u001b[0m \u001b[39mfor\u001b[39;00m y \u001b[39min\u001b[39;00m graphe\u001b[39m.\u001b[39mget(x,[]):\n\u001b[0;32m----> 4\u001b[0m     sommets_atteignables\u001b[39m=\u001b[39mAccessibles1(graphe,y)\n\u001b[1;32m      5\u001b[0m     liste_accessibles\u001b[39m=\u001b[39mliste_accessibles\u001b[39m.\u001b[39munion(sommets_atteignables)\n\u001b[1;32m      6\u001b[0m \u001b[39mreturn\u001b[39;00m liste_accessibles\n",
      "    \u001b[0;31m[... skipping similar frames: Accessibles1 at line 4 (2969 times)]\u001b[0m\n",
      "Cell \u001b[0;32mIn[19], line 4\u001b[0m, in \u001b[0;36mAccessibles1\u001b[0;34m(graphe, x)\u001b[0m\n\u001b[1;32m      2\u001b[0m liste_accessibles\u001b[39m=\u001b[39m{x}\n\u001b[1;32m      3\u001b[0m \u001b[39mfor\u001b[39;00m y \u001b[39min\u001b[39;00m graphe\u001b[39m.\u001b[39mget(x,[]):\n\u001b[0;32m----> 4\u001b[0m     sommets_atteignables\u001b[39m=\u001b[39mAccessibles1(graphe,y)\n\u001b[1;32m      5\u001b[0m     liste_accessibles\u001b[39m=\u001b[39mliste_accessibles\u001b[39m.\u001b[39munion(sommets_atteignables)\n\u001b[1;32m      6\u001b[0m \u001b[39mreturn\u001b[39;00m liste_accessibles\n",
      "Cell \u001b[0;32mIn[19], line 3\u001b[0m, in \u001b[0;36mAccessibles1\u001b[0;34m(graphe, x)\u001b[0m\n\u001b[1;32m      1\u001b[0m \u001b[39mdef\u001b[39;00m \u001b[39mAccessibles1\u001b[39m(graphe:\u001b[39mdict\u001b[39m,x:\u001b[39mint\u001b[39m):\n\u001b[1;32m      2\u001b[0m     liste_accessibles\u001b[39m=\u001b[39m{x}\n\u001b[0;32m----> 3\u001b[0m     \u001b[39mfor\u001b[39;00m y \u001b[39min\u001b[39;00m graphe\u001b[39m.\u001b[39;49mget(x,[]):\n\u001b[1;32m      4\u001b[0m         sommets_atteignables\u001b[39m=\u001b[39mAccessibles1(graphe,y)\n\u001b[1;32m      5\u001b[0m         liste_accessibles\u001b[39m=\u001b[39mliste_accessibles\u001b[39m.\u001b[39munion(sommets_atteignables)\n",
      "\u001b[0;31mRecursionError\u001b[0m: maximum recursion depth exceeded while calling a Python object"
     ]
    }
   ],
   "source": [
    "graphe={0:[1,3],1:[0],2:[0,3],3:[]}\n",
    "print(Accessibles1(graphe,2))"
   ]
  },
  {
   "attachments": {},
   "cell_type": "markdown",
   "metadata": {},
   "source": [
    "0<->1 donc il fait une recurrence infinie"
   ]
  },
  {
   "cell_type": "code",
   "execution_count": 26,
   "metadata": {},
   "outputs": [],
   "source": [
    "def Accessibles2(graphe:dict,x:int,liste_accessibles:set=set()):\n",
    "    liste_accessibles.add(x) #corrigé sinon le premier sommet n'est pas mis\n",
    "    for y in graphe.get(x,[]):\n",
    "        if not y in liste_accessibles:\n",
    "            liste_accessibles=Accessibles2(graphe,y,liste_accessibles)\n",
    "    return liste_accessibles"
   ]
  },
  {
   "cell_type": "code",
   "execution_count": 27,
   "metadata": {},
   "outputs": [
    {
     "name": "stdout",
     "output_type": "stream",
     "text": [
      "{0, 1, 2, 3}\n"
     ]
    }
   ],
   "source": [
    "graphe={0:[1,3],1:[0],2:[0,3],3:[]}\n",
    "print(Accessibles2(graphe,2))"
   ]
  },
  {
   "cell_type": "code",
   "execution_count": 1,
   "metadata": {},
   "outputs": [
    {
     "name": "stdout",
     "output_type": "stream",
     "text": [
      "{0, 1, 2, 3, 4}\n"
     ]
    },
    {
     "data": {
      "text/plain": [
       "[(0, 1), (0, 3), (3, 4), (0, 2)]"
      ]
     },
     "execution_count": 1,
     "metadata": {},
     "output_type": "execute_result"
    }
   ],
   "source": [
    "def Accessibles3(graphe:dict,x:int,liste_accessibles:set=set(),chemins:list[tuple]=[]):\n",
    "    liste_accessibles.add(x) #corrigé sinon le premier sommet n'est pas mis\n",
    "    for y in graphe.get(x,[]):\n",
    "        if not y in liste_accessibles:\n",
    "            chemins.append((x,y))\n",
    "            #liste_accessibles.add(y)\n",
    "            (liste_accessibles,chemins)=Accessibles3(graphe,y,liste_accessibles,chemins)\n",
    "    return (liste_accessibles,chemins)\n",
    "\n",
    "graphe={0:[1,3,4,2],1:[0],2:[0,1],3:[4],4:[3]}\n",
    "liste_accessibles,chemins=Accessibles3(graphe,0)\n",
    "print(liste_accessibles)\n",
    "chemins"
   ]
  },
  {
   "cell_type": "code",
   "execution_count": 2,
   "metadata": {},
   "outputs": [
    {
     "data": {
      "text/plain": [
       "[0, 3, 4]"
      ]
     },
     "execution_count": 2,
     "metadata": {},
     "output_type": "execute_result"
    }
   ],
   "source": [
    "def reconstruire_chemin(start,end,_chemins)->list:\n",
    "    if start==end:\n",
    "        return [start]\n",
    "    for tuple in _chemins:\n",
    "        if tuple[1]!=end:continue\n",
    "        tmp=reconstruire_chemin(start,tuple[0],_chemins)\n",
    "        if tmp:\n",
    "            return [*tmp,end]\n",
    "\n",
    "reconstruire_chemin(0,4,chemins)"
   ]
  },
  {
   "cell_type": "code",
   "execution_count": 112,
   "metadata": {},
   "outputs": [
    {
     "data": {
      "text/plain": [
       "[0, 3, 4]"
      ]
     },
     "execution_count": 112,
     "metadata": {},
     "output_type": "execute_result"
    }
   ],
   "source": [
    "def Accessible(graphe,start,end):\n",
    "    liste_accessibles,chemins=Accessibles3(graphe,start)\n",
    "    if not end in liste_accessibles:\n",
    "        return\n",
    "    return reconstruire_chemin(start,end,chemins)\n",
    "\n",
    "graphe={0:[1,3,4,2],1:[0],2:[0,1],3:[4],4:[3]}\n",
    "bon_path=Accessible(graphe,0,4)\n",
    "bon_path"
   ]
  },
  {
   "cell_type": "code",
   "execution_count": 113,
   "metadata": {},
   "outputs": [],
   "source": [
    "def Verifier_chemin(graphe,start,end,_chemins):\n",
    "    bon=(start==_chemins[0])\n",
    "    last_somment=start\n",
    "    for sommet in _chemins[1:]:\n",
    "        if sommet in graphe[last_somment]:\n",
    "            last_somment=sommet\n",
    "        else:\n",
    "            bon=False\n",
    "    return bon and last_somment==end\n",
    "\n",
    "false_path=[0,2,4]\n",
    "assert Verifier_chemin(graphe,0,4,bon_path)\n",
    "assert not Verifier_chemin(graphe,0,4,false_path)"
   ]
  }
 ],
 "metadata": {
  "kernelspec": {
   "display_name": "Python 3",
   "language": "python",
   "name": "python3"
  },
  "language_info": {
   "codemirror_mode": {
    "name": "ipython",
    "version": 3
   },
   "file_extension": ".py",
   "mimetype": "text/x-python",
   "name": "python",
   "nbconvert_exporter": "python",
   "pygments_lexer": "ipython3",
   "version": "3.10.6"
  },
  "orig_nbformat": 4,
  "vscode": {
   "interpreter": {
    "hash": "916dbcbb3f70747c44a77c7bcd40155683ae19c65e1c03b4aa3499c5328201f1"
   }
  }
 },
 "nbformat": 4,
 "nbformat_minor": 2
}
