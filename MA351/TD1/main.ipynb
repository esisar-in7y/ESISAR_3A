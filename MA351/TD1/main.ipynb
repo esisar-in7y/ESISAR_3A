{
 "cells": [
  {
   "cell_type": "code",
   "execution_count": 40,
   "metadata": {},
   "outputs": [],
   "source": [
    "#imports and setup consts\n",
    "from graphes import *\n",
    "def sommets(graph:dict):\n",
    "    return list(graph.keys())\n",
    "\n",
    "def arcs(graph:dict):\n",
    "    for start,ends in graph.items():\n",
    "        for end in ends:\n",
    "            yield (start,end)\n",
    "def list_arcs(graph:dict):\n",
    "    liste=[]\n",
    "    for start,ends in graph.items():\n",
    "        for end in ends:\n",
    "            liste.append((start,end))\n",
    "    return liste\n",
    "def describe(graph:dict):\n",
    "    return (len(sommets(graph)),len(list_arcs(graph)))\n",
    "def mirroir(graph:dict):\n",
    "    mirror_edge={key:[] for key in graph.keys()}\n",
    "    for start,ends in graph.items():\n",
    "        for end in ends:\n",
    "            # if not end in mirror_edge:\n",
    "            #     mirror_edge[end]=[]\n",
    "            mirror_edge[end].append(start)\n",
    "    return mirror_edge\n",
    "#7\n",
    "def degres_entrant_sommet(graph:dict,sommet:int):\n",
    "    return sum([1 if sommet in predecesseurs else 0 for predecesseurs in graph.values()])\n",
    "\n",
    "def sous_graph(graph:dict,sommets:list[int]):\n",
    "    sous_graph_tmp={key:[] for key in graph.keys() if key in sommets}\n",
    "    for start,ends in graph.items():\n",
    "        if start in sommets:\n",
    "            for end in ends:\n",
    "                if end in sommets:\n",
    "                    sous_graph_tmp[start].append(end)\n",
    "    return sous_graph_tmp\n",
    "\n"
   ]
  },
  {
   "cell_type": "code",
   "execution_count": 41,
   "metadata": {},
   "outputs": [
    {
     "name": "stdout",
     "output_type": "stream",
     "text": [
      "{0: [], 1: [0]}\n"
     ]
    },
    {
     "data": {
      "text/plain": [
       "{0: [2, 4, 6, 8],\n",
       " 1: [0, 3],\n",
       " 2: [0, 4, 6, 8],\n",
       " 3: [1, 8],\n",
       " 4: [0, 2, 6, 8],\n",
       " 5: [6, 8, 9],\n",
       " 6: [0, 2, 4, 8],\n",
       " 7: [4, 6, 9],\n",
       " 8: [0, 2, 4, 6],\n",
       " 9: [2, 4, 5, 7]}"
      ]
     },
     "execution_count": 41,
     "metadata": {},
     "output_type": "execute_result"
    }
   ],
   "source": [
    "test_graph=graphe_oriente(10,2)\n",
    "print(sous_graph(test_graph,[0,1]))\n",
    "test_graph"
   ]
  }
 ],
 "metadata": {
  "kernelspec": {
   "display_name": "Python 3",
   "language": "python",
   "name": "python3"
  },
  "language_info": {
   "codemirror_mode": {
    "name": "ipython",
    "version": 3
   },
   "file_extension": ".py",
   "mimetype": "text/x-python",
   "name": "python",
   "nbconvert_exporter": "python",
   "pygments_lexer": "ipython3",
   "version": "3.10.6 (main, Nov 14 2022, 16:10:14) [GCC 11.3.0]"
  },
  "orig_nbformat": 4,
  "vscode": {
   "interpreter": {
    "hash": "916dbcbb3f70747c44a77c7bcd40155683ae19c65e1c03b4aa3499c5328201f1"
   }
  }
 },
 "nbformat": 4,
 "nbformat_minor": 2
}
